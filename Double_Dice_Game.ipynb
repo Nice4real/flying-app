{
  "cells": [
    {
      "cell_type": "markdown",
      "metadata": {
        "id": "view-in-github",
        "colab_type": "text"
      },
      "source": [
        "<a href=\"https://colab.research.google.com/github/Nice4real/flying-app/blob/main/Double_Dice_Game.ipynb\" target=\"_parent\"><img src=\"https://colab.research.google.com/assets/colab-badge.svg\" alt=\"Open In Colab\"/></a>"
      ]
    },
    {
      "cell_type": "code",
      "execution_count": null,
      "metadata": {
        "colab": {
          "base_uri": "https://localhost:8080/"
        },
        "id": "0g6wjgtECzuH",
        "outputId": "57cb3bf0-1050-4f49-c617-e1dcd526adaf"
      },
      "outputs": [
        {
          "output_type": "stream",
          "name": "stdout",
          "text": [
            "Welcome to double dice game.\n",
            "You have 3 lifelines each time you roll the dice double, you gain 10 points\n",
            "Press enter to roll the dice7\n",
            "You rolled. 6 6\n",
            "congratulations! You got doubles and gained 10 points. your total points is now. 10\n",
            "Press enter to roll the dice4\n",
            "You rolled. 4 4\n",
            "congratulations! You got doubles and gained 10 points. your total points is now. 20\n",
            "Press enter to roll the dice3\n",
            "You rolled. 3 1\n",
            "You didn't get doubles, lifeline remaining 2\n",
            "Press enter to roll the dice1\n",
            "You rolled. 6 6\n",
            "congratulations! You got doubles and gained 10 points. your total points is now. 30\n",
            "Press enter to roll the dice5\n",
            "You rolled. 6 3\n",
            "You didn't get doubles, lifeline remaining 1\n",
            "Press enter to roll the dice2\n",
            "You rolled. 2 4\n",
            "You didn't get doubles, lifeline remaining 0\n",
            "Game over! You've run out of lifelines\n"
          ]
        }
      ],
      "source": [
        "import random\n",
        "# This function generates a random number between 1 and 6\n",
        "def roll_dice():\n",
        "  return random.randint(1, 6)\n",
        "# This function represents the main logic of the double dice game. It initializes the variables points to keep track of the player's points and lifeline to represent the number of remaining lifelines.\n",
        "def play_double_dice():\n",
        "  points = 0\n",
        "  lifeline = 3\n",
        "  print(\"Welcome to double dice game.\\nYou have 3 lifelines each time you roll the dice double, you gain 10 points\")\n",
        "  # The loop checks if the player has remaining lifelines. As long as the player has one lifeline left,the loop continue.\n",
        "  while lifeline > 0:\n",
        "    input(\"Press enter to roll the dice\")\n",
        "    dice1 = roll_dice()\n",
        "    dice2 = roll_dice()\n",
        "    print(\"You rolled.\", dice1, dice2)\n",
        "    if dice1 == dice2:\n",
        "      points += 10\n",
        "      print(\"congratulations! You got doubles and gained 10 points. your total points is now.\", points)\n",
        "    else:\n",
        "        lifeline -= 1\n",
        "        print(\"You didn't get doubles, lifeline remaining\", lifeline)\n",
        "        if lifeline == 0:\n",
        "          print(\"Game over! You've run out of lifelines\")\n",
        "          break\n",
        "          print(\"final points.\", points)\n",
        "# The play_double_dice() function is called at the end of the code to start the game.\n",
        "play_double_dice()\n",
        "\n",
        "\n",
        "\n",
        "\n",
        "\n",
        "\n",
        "\n",
        "\n",
        "\n",
        "\n",
        "\n",
        "\n"
      ]
    },
    {
      "cell_type": "code",
      "source": [],
      "metadata": {
        "id": "xOJsWDhZRaNu"
      },
      "execution_count": null,
      "outputs": []
    }
  ],
  "metadata": {
    "colab": {
      "provenance": [],
      "authorship_tag": "ABX9TyOiQAGnQQyecnh2fQZQY2tL",
      "include_colab_link": true
    },
    "kernelspec": {
      "display_name": "Python 3",
      "name": "python3"
    },
    "language_info": {
      "name": "python"
    }
  },
  "nbformat": 4,
  "nbformat_minor": 0
}